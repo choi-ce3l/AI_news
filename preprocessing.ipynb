{
 "cells": [
  {
   "metadata": {},
   "cell_type": "markdown",
   "source": "# 1. 컬럼명 통일",
   "id": "61f1b66ecd66524e"
  },
  {
   "metadata": {},
   "cell_type": "code",
   "source": "hicss = hicss.drop(columns=['Unnamed: 0'])",
   "id": "d347e6e2e872e43",
   "outputs": [],
   "execution_count": null
  },
  {
   "metadata": {},
   "cell_type": "code",
   "source": [
    "# 컬럼 순서 바꾸기 함수\n",
    "\n",
    "# 원하는 컬럼 순서 리스트\n",
    "desired_order = [\n",
    "    'title',\n",
    "    'date',\n",
    "    'abstract',       # content을 abstract로 바꿨다고 가정\n",
    "    'keywords',\n",
    "    'authors',\n",
    "    'affiliations'\n",
    "]\n",
    "\n",
    "# 컬럼 순서 변경\n",
    "icis = icis[desired_order]"
   ],
   "id": "1c707ca1a6356132",
   "outputs": [],
   "execution_count": null
  },
  {
   "metadata": {},
   "cell_type": "code",
   "source": "icis",
   "id": "f00bcf5f5de0ed98",
   "outputs": [],
   "execution_count": null
  },
  {
   "metadata": {},
   "cell_type": "code",
   "source": "icis.to_csv('data/icis_final.csv',index=False)",
   "id": "31f86fe6c4004b5f",
   "outputs": [],
   "execution_count": null
  },
  {
   "metadata": {},
   "cell_type": "markdown",
   "source": "# 2. hicss 저자 전처리 코드",
   "id": "90d9fee787e32df6"
  },
  {
   "metadata": {},
   "cell_type": "code",
   "source": [
    "import pandas as pd\n",
    "# 안전한 변환 함수\n",
    "def format_authors_underscore(author_str):\n",
    "    if not isinstance(author_str, str):\n",
    "        return \"\"\n",
    "\n",
    "    # 쉼표 기준으로 나누고 공백 제거\n",
    "    authors = [a.strip() for a in author_str.split(',') if a.strip()]\n",
    "\n",
    "    # 짝수 확인\n",
    "    if len(authors) % 2 != 0:\n",
    "        return \"Error\"\n",
    "\n",
    "    # 이름 + 성 붙이고 소문자로 변환, 언더스코어 연결\n",
    "    full_names = [f\"{authors[i+1].lower()}_{authors[i].lower()}\" for i in range(0, len(authors), 2)]\n",
    "\n",
    "    # 쉼표 + 공백으로 연결된 문자열로 반환\n",
    "    return ', '.join(full_names)\n",
    "\n",
    "# 데이터프레임에 적용\n",
    "hicss['authors'] = hicss['authors'].apply(format_authors_underscore)\n",
    "\n",
    "# 결과 확인\n",
    "hicss"
   ],
   "id": "3b5e74a133b5d719",
   "outputs": [],
   "execution_count": null
  },
  {
   "metadata": {},
   "cell_type": "code",
   "source": [
    "empty_authors = hicss[hicss['authors'].isna() | (hicss['authors'] == '')|(hicss['authors'] == 'Error')]\n",
    "empty_authors"
   ],
   "id": "4e31955687516981",
   "outputs": [],
   "execution_count": null
  },
  {
   "metadata": {},
   "cell_type": "code",
   "source": [
    "author_str = \"\"\"\n",
    "Wang, Belinda,\n",
    "Tan, Barney,\n",
    "Boell, Sebastian,\n",
    "Yu, Jie\n",
    "\"\"\"\n",
    "\n",
    "# 줄바꿈 기준으로 나누고, 쉼표 기준으로 재구성\n",
    "def format_multiline_authors(text):\n",
    "    # 줄 단위로 분할 후, 쉼표 기준으로 나누기\n",
    "    authors = [a.strip() for a in author_str.split(',') if a.strip()]\n",
    "\n",
    "    # 짝수 쌍 확인\n",
    "    if len(authors) % 2 != 0:\n",
    "        return author_str\n",
    "\n",
    "    full_names = [f\"{authors[i+1].lower()}_{authors[i].lower()}\" for i in range(0, len(authors), 2)]\n",
    "    return f'\"{\", \".join(full_names)}\"'\n",
    "\n",
    "# 실행\n",
    "formatted = format_multiline_authors(author_str)\n",
    "print(formatted)"
   ],
   "id": "5e3188788a081e91",
   "outputs": [],
   "execution_count": null
  },
  {
   "metadata": {},
   "cell_type": "markdown",
   "source": "# 3. verge content 빈거 지우기",
   "id": "6a31d3b0ce21d28d"
  },
  {
   "metadata": {},
   "cell_type": "code",
   "source": [
    "empty_authors = verge[verge['title'].isna() | (verge['title'] == '')]\n",
    "empty_authors"
   ],
   "id": "1faa1bec07830aa4",
   "outputs": [],
   "execution_count": null
  },
  {
   "metadata": {},
   "cell_type": "markdown",
   "source": "# 4. 데이터 합치기 및 전처리...",
   "id": "96a1e92c04118d16"
  },
  {
   "metadata": {},
   "cell_type": "code",
   "source": [
    "import pandas as pd\n",
    "\n",
    "icis=pd.read_csv('data/ICIS_final.csv')\n",
    "hicss=pd.read_csv('data/hicss_final.csv')\n",
    "verge=pd.read_csv('data/verge_final.csv')"
   ],
   "id": "56c6e3e33fdea4a1",
   "outputs": [],
   "execution_count": null
  },
  {
   "metadata": {},
   "cell_type": "code",
   "source": "icis.info()",
   "id": "2cea9fbd00af3a05",
   "outputs": [],
   "execution_count": null
  },
  {
   "metadata": {},
   "cell_type": "code",
   "source": "hicss.info()",
   "id": "90f6b52162db389f",
   "outputs": [],
   "execution_count": null
  },
  {
   "metadata": {},
   "cell_type": "code",
   "source": "verge.info()",
   "id": "eaf0cf7bcf986d17",
   "outputs": [],
   "execution_count": null
  },
  {
   "metadata": {},
   "cell_type": "markdown",
   "source": "## 1. null 값 제거 함수",
   "id": "330fb9ced6402869"
  },
  {
   "metadata": {},
   "cell_type": "code",
   "source": [
    "from drop_null_rows import drop_null_rows\n",
    "\n",
    "icis=drop_null_rows(icis,['title','abstract','keywords','date'])"
   ],
   "id": "123ed81486a37801",
   "outputs": [],
   "execution_count": null
  },
  {
   "metadata": {},
   "cell_type": "code",
   "source": "hicss=drop_null_rows(hicss,['title','abstract','keywords','date'])",
   "id": "5e3e74dc562078a9",
   "outputs": [],
   "execution_count": null
  },
  {
   "metadata": {},
   "cell_type": "code",
   "source": "verge=drop_null_rows(verge,['title','content','date'])",
   "id": "86cf5d822088d23f",
   "outputs": [],
   "execution_count": null
  },
  {
   "metadata": {},
   "cell_type": "code",
   "source": [
    "icis.to_csv('data/icis_cleaned_final.csv',index=False)\n",
    "verge.to_csv('data/verge_cleaned_final.csv',index=False)\n",
    "hicss.to_csv('data/hicss_cleaned_final.csv',index=False)"
   ],
   "id": "d9f10db5de808b62",
   "outputs": [],
   "execution_count": null
  },
  {
   "metadata": {},
   "cell_type": "markdown",
   "source": "## 2. 전처리",
   "id": "19d9329cbe838fb0"
  },
  {
   "metadata": {},
   "cell_type": "code",
   "source": [
    "import pandas as pd\n",
    "\n",
    "icis=pd.read_csv('data/icis_cleaned_final.csv')\n",
    "hicss=pd.read_csv('data/hicss_cleaned_final.csv')\n",
    "verge=pd.read_csv('data/verge_cleaned_final.csv')"
   ],
   "id": "69afa2dc80290fbb",
   "outputs": [],
   "execution_count": null
  },
  {
   "metadata": {},
   "cell_type": "code",
   "source": "icis.info()",
   "id": "f3d3c4119bd0d70c",
   "outputs": [],
   "execution_count": null
  },
  {
   "metadata": {},
   "cell_type": "code",
   "source": "hicss.info()",
   "id": "d0ec614a80acde00",
   "outputs": [],
   "execution_count": null
  },
  {
   "metadata": {},
   "cell_type": "code",
   "source": "verge.info()",
   "id": "d1c441fff149019e",
   "outputs": [],
   "execution_count": null
  },
  {
   "metadata": {},
   "cell_type": "markdown",
   "source": "# 2025-5-16 2020년도 재수집 및 전처리",
   "id": "102f5012357d9583"
  },
  {
   "metadata": {},
   "cell_type": "code",
   "source": [
    "import pandas as pd\n",
    "\n",
    "icis=pd.read_csv('data/재수집/icis2020_metadata.csv')\n",
    "icis"
   ],
   "id": "381d26346cf8f78",
   "outputs": [],
   "execution_count": null
  },
  {
   "metadata": {},
   "cell_type": "code",
   "source": "icis",
   "id": "f91611112ba155dc",
   "outputs": [],
   "execution_count": null
  },
  {
   "metadata": {},
   "cell_type": "code",
   "source": "icis.info()",
   "id": "2f24aa49a8489faf",
   "outputs": [],
   "execution_count": null
  },
  {
   "metadata": {},
   "cell_type": "markdown",
   "source": [
    "# icis 할일\n",
    "- 년도 칼럼 추가 2020년"
   ],
   "id": "6378504c78429e5a"
  },
  {
   "metadata": {},
   "cell_type": "code",
   "source": [
    "# icis['date']=2020\n",
    "icis['affiliations']='icis'"
   ],
   "id": "fd1d4d2294cf1f3f",
   "outputs": [],
   "execution_count": null
  },
  {
   "metadata": {},
   "cell_type": "code",
   "source": [
    "# 컬럼 순서 바꾸기 함수\n",
    "\n",
    "# 원하는 컬럼 순서 리스트\n",
    "desired_order = [\n",
    "    'title',\n",
    "    'date',\n",
    "    'abstract',       # content을 abstract로 바꿨다고 가정\n",
    "    'keywords',\n",
    "    'authors',\n",
    "    'affiliations'\n",
    "]\n",
    "\n",
    "# 컬럼 순서 변경\n",
    "icis = icis[desired_order]"
   ],
   "id": "7016cca437347d9d",
   "outputs": [],
   "execution_count": null
  },
  {
   "metadata": {},
   "cell_type": "code",
   "source": "icis.info()",
   "id": "e62ba72991302307",
   "outputs": [],
   "execution_count": null
  },
  {
   "metadata": {},
   "cell_type": "code",
   "source": "icis.to_csv('data/icis_2020.csv',index=False)",
   "id": "d2e2ef11d8ae281f",
   "outputs": [],
   "execution_count": null
  },
  {
   "metadata": {},
   "cell_type": "markdown",
   "source": "# hicss 전처리",
   "id": "4ef429b7bfdac60e"
  },
  {
   "metadata": {},
   "cell_type": "code",
   "source": [
    "import pandas as pd\n",
    "\n",
    "hicss=pd.read_csv('data/재수집/HICSS2020_metadata.csv')\n",
    "hicss"
   ],
   "id": "b4cda0abe52e9edf",
   "outputs": [],
   "execution_count": null
  },
  {
   "metadata": {},
   "cell_type": "code",
   "source": "hicss.info()",
   "id": "cc4f76a47ed09347",
   "outputs": [],
   "execution_count": null
  },
  {
   "metadata": {},
   "cell_type": "code",
   "source": [
    "from drop_null_rows import drop_null_rows\n",
    "hicss=drop_null_rows(hicss,['Title','Abstract','Keywords','Date'])"
   ],
   "id": "7f9c5350fb282144",
   "outputs": [],
   "execution_count": null
  },
  {
   "metadata": {},
   "cell_type": "code",
   "source": "hicss",
   "id": "fcfaa9e67529d6ed",
   "outputs": [],
   "execution_count": null
  },
  {
   "metadata": {},
   "cell_type": "code",
   "source": [
    "hicss['date']=2020\n",
    "hicss['affiliations']='HICSS'"
   ],
   "id": "7813a75b73597972",
   "outputs": [],
   "execution_count": null
  },
  {
   "metadata": {},
   "cell_type": "code",
   "source": [
    "# hicss.columns = hicss.columns.str.lower()\n",
    "hicss.info()"
   ],
   "id": "5800899a23d2b06a",
   "outputs": [],
   "execution_count": null
  },
  {
   "metadata": {},
   "cell_type": "code",
   "source": "hicss=hicss.drop(columns=['Date'])",
   "id": "6fa9ae375c58c438",
   "outputs": [],
   "execution_count": null
  },
  {
   "metadata": {},
   "cell_type": "code",
   "source": [
    "# 컬럼 순서 바꾸기 함수\n",
    "\n",
    "# 원하는 컬럼 순서 리스트\n",
    "desired_order = [\n",
    "    'title',\n",
    "    'date',\n",
    "    'abstract',       # content을 abstract로 바꿨다고 가정\n",
    "    'keywords',\n",
    "    'authors',\n",
    "    'affiliations'\n",
    "]\n",
    "\n",
    "# 컬럼 순서 변경\n",
    "hicss = hicss[desired_order]"
   ],
   "id": "6f0300da12d91917",
   "outputs": [],
   "execution_count": null
  },
  {
   "metadata": {},
   "cell_type": "code",
   "source": "hicss.to_csv('data/hicss_2020.csv',index=False)",
   "id": "e03cce1860c44ec1",
   "outputs": [],
   "execution_count": null
  },
  {
   "metadata": {},
   "cell_type": "markdown",
   "source": [
    "# ISR 전처리\n",
    "- date 2020년도부터 바꾸기\n",
    "-"
   ],
   "id": "1ec52da93556bfa0"
  },
  {
   "metadata": {},
   "cell_type": "code",
   "source": [
    "isr=pd.read_csv('data/재수집/ISR.csv')\n",
    "isr"
   ],
   "id": "2fa2de1c6d6a4c2a",
   "outputs": [],
   "execution_count": null
  },
  {
   "metadata": {},
   "cell_type": "code",
   "source": "isr.info()",
   "id": "9c361baca10e0a0a",
   "outputs": [],
   "execution_count": null
  },
  {
   "metadata": {},
   "cell_type": "code",
   "source": [
    "import pandas as pd\n",
    "\n",
    "# 1) 문자열 → datetime 변환  (예: '19 Dec 2019' 형식)\n",
    "isr['date'] = pd.to_datetime(isr['date'], format='%d %b %Y', errors='coerce')\n",
    "#   errors='coerce' : 파싱 실패 시 NaT 로 처리해줌\n",
    "\n",
    "# 2) 2020년만 필터링\n",
    "isr_2020 = isr[isr['date'].dt.year == 2020].copy()\n",
    "\n",
    "# 3) 필요하면 인덱스 재설정\n",
    "isr_2020.reset_index(drop=True, inplace=True)\n",
    "\n",
    "print(isr_2020.head())\n",
    "print(isr_2020.info())"
   ],
   "id": "283bfaefd3b59305",
   "outputs": [],
   "execution_count": null
  },
  {
   "metadata": {},
   "cell_type": "code",
   "source": "isr_2020",
   "id": "ce4a8a975fcc713e",
   "outputs": [],
   "execution_count": null
  },
  {
   "metadata": {},
   "cell_type": "code",
   "source": [
    "isr_2020['date']=2020\n",
    "isr_2020['affiliations']='ISR'"
   ],
   "id": "d11ef0aed727bf3a",
   "outputs": [],
   "execution_count": null
  },
  {
   "metadata": {},
   "cell_type": "code",
   "source": [
    "# 컬럼 순서 바꾸기 함수\n",
    "\n",
    "# 원하는 컬럼 순서 리스트\n",
    "desired_order = [\n",
    "    'title',\n",
    "    'date',\n",
    "    'abstract',       # content을 abstract로 바꿨다고 가정\n",
    "    'keywords',\n",
    "    'authors',\n",
    "    'affiliations'\n",
    "]\n",
    "\n",
    "# 컬럼 순서 변경\n",
    "isr_2020 = isr_2020[desired_order]"
   ],
   "id": "c5db011678711a0d",
   "outputs": [],
   "execution_count": null
  },
  {
   "metadata": {},
   "cell_type": "code",
   "source": "isr_2020.to_csv('data/isr_2020.csv',index=False)",
   "id": "cba3109514d15bba",
   "outputs": [],
   "execution_count": null
  },
  {
   "metadata": {},
   "cell_type": "markdown",
   "source": "# MISQ 전처리",
   "id": "900b6661372ff3b9"
  },
  {
   "metadata": {},
   "cell_type": "code",
   "source": [
    "misq=pd.read_csv('data/재수집/misq.csv')\n",
    "misq"
   ],
   "id": "98e44c73f6418e35",
   "outputs": [],
   "execution_count": null
  },
  {
   "metadata": {},
   "cell_type": "code",
   "source": [
    "misq['date']=2020\n",
    "misq['affiliations']='MISQ'"
   ],
   "id": "3e0e739c0e49691e",
   "outputs": [],
   "execution_count": null
  },
  {
   "metadata": {},
   "cell_type": "code",
   "source": "misq",
   "id": "25472f1f1e443562",
   "outputs": [],
   "execution_count": null
  },
  {
   "metadata": {},
   "cell_type": "code",
   "source": "misq.to_csv('data/misq_2020.csv',index=False)",
   "id": "1ce77795d9160544",
   "outputs": [],
   "execution_count": null
  },
  {
   "metadata": {},
   "cell_type": "code",
   "source": [
    "# 컬럼 순서 바꾸기 함수\n",
    "\n",
    "misq.rename(columns={'author':'authors'},inplace=True)\n",
    "\n",
    "# 원하는 컬럼 순서 리스트\n",
    "desired_order = [\n",
    "    'title',\n",
    "    'date',\n",
    "    'abstract',       # content을 abstract로 바꿨다고 가정\n",
    "    'keywords',\n",
    "    'authors',\n",
    "    'affiliations'\n",
    "]\n",
    "\n",
    "# 컬럼 순서 변경\n",
    "misq = misq[desired_order]"
   ],
   "id": "f439fc291dafeca4",
   "outputs": [],
   "execution_count": null
  },
  {
   "metadata": {},
   "cell_type": "markdown",
   "source": "# the verge 전처리",
   "id": "20deb7d93dddcf8f"
  },
  {
   "metadata": {},
   "cell_type": "code",
   "source": [
    "verge=pd.read_csv('data/재수집/theverge.csv')\n",
    "verge"
   ],
   "id": "583b5ac0301cc388",
   "outputs": [],
   "execution_count": null
  },
  {
   "metadata": {},
   "cell_type": "code",
   "source": [
    "import pandas as pd\n",
    "from datetime import datetime, timezone, timedelta\n",
    "from dateutil import parser\n",
    "\n",
    "# 0️⃣ KST 변환용 함수 (질문에서 주신 그대로)\n",
    "kst = timezone(timedelta(hours=9))\n",
    "\n",
    "def convert_to_kst(time_str):\n",
    "    if not isinstance(time_str, str) or not time_str.strip():\n",
    "        return pd.NaT\n",
    "\n",
    "    try:\n",
    "        utc_dt = parser.parse(time_str)\n",
    "        if utc_dt.tzinfo is None:                 # timezone 없으면 UTC로 가정\n",
    "            utc_dt = utc_dt.replace(tzinfo=timezone.utc)\n",
    "        else:                                     # 이미 tz가 있으면 UTC로 맞춤\n",
    "            utc_dt = utc_dt.astimezone(timezone.utc)\n",
    "        return utc_dt.astimezone(kst)             # 최종 KST\n",
    "    except Exception:\n",
    "        print(f\"[변환 실패] {time_str}\")\n",
    "        return pd.NaT\n",
    "\n",
    "\n",
    "# 1️⃣ 기존 'date' → KST datetime\n",
    "verge['kst_date'] = verge['date'].apply(convert_to_kst)\n",
    "\n",
    "# 2️⃣ 2020년만 필터링 (두 가지 방법 중 하나 선택)\n",
    "\n",
    "#   방법 A) 범위로 자르기\n",
    "start_2020 = datetime(2020, 1, 1, tzinfo=kst)\n",
    "end_2020   = datetime(2020, 12, 31, 23, 59, 59, tzinfo=kst)\n",
    "verge = verge[(verge['kst_date'] >= start_2020) & (verge['kst_date'] <= end_2020)].copy()\n",
    "\n",
    "#   방법 B) dt.year == 2020 활용 (훨씬 간단)\n",
    "# isr_2020 = isr[isr['kst_date'].dt.year == 2020].copy()\n",
    "\n",
    "# 3️⃣ 필요하면 인덱스 초기화\n",
    "verge.reset_index(drop=True, inplace=True)\n",
    "\n",
    "print(verge.head())\n",
    "print(verge.info())"
   ],
   "id": "f31aa25d21af6c16",
   "outputs": [],
   "execution_count": null
  },
  {
   "metadata": {},
   "cell_type": "code",
   "source": [
    "verge['date']=2020\n",
    "verge['affiliations']='the_verge'"
   ],
   "id": "177187c71612b404",
   "outputs": [],
   "execution_count": null
  },
  {
   "metadata": {},
   "cell_type": "code",
   "source": "verge",
   "id": "3b7a78ec98a951a3",
   "outputs": [],
   "execution_count": null
  },
  {
   "metadata": {},
   "cell_type": "code",
   "source": "verge.to_csv('data/verge_2020.csv',index=False)",
   "id": "da1eac2076bf45aa",
   "outputs": [],
   "execution_count": null
  },
  {
   "metadata": {},
   "cell_type": "markdown",
   "source": "# techcruch 전처리",
   "id": "d4df2593448bfd5e"
  },
  {
   "metadata": {},
   "cell_type": "code",
   "source": [
    "techcrunch=pd.read_csv('data/재수집/techcrunch_ai_articles.csv')\n",
    "techcrunch"
   ],
   "id": "439aeab78ce06ddc",
   "outputs": [],
   "execution_count": null
  },
  {
   "metadata": {},
   "cell_type": "code",
   "source": [
    "techcrunch = techcrunch.copy()  # 슬라이싱 경고 방지\n",
    "\n",
    "# 문자열을 datetime으로 변환 (타임존 포함 시 안전하게)\n",
    "techcrunch['date'] = pd.to_datetime(techcrunch['date'], utc=True)\n",
    "techcrunch_2020 = techcrunch[techcrunch['date'].dt.year == 2020].copy()\n",
    "techcrunch_2020['year'] = techcrunch_2020['date'].dt.year.astype(str)\n",
    "# 1. 사본 생성\n",
    "techcrunch = techcrunch.copy()\n",
    "\n",
    "# 2. 날짜 컬럼 변환 (UTC 명시)\n",
    "techcrunch['date'] = pd.to_datetime(techcrunch['date'], utc=True)\n",
    "\n",
    "# 3. 2020년 데이터만 필터링\n",
    "techcrunch_2020 = techcrunch[techcrunch['date'].dt.year == 2020].copy()\n",
    "\n",
    "# 4. 연도만 추출 (선택)\n",
    "techcrunch_2020['year'] = techcrunch_2020['date'].dt.year.astype(str)"
   ],
   "id": "c4bc06d28f87c5d8",
   "outputs": [],
   "execution_count": null
  },
  {
   "metadata": {},
   "cell_type": "code",
   "source": "techcrunch_2020",
   "id": "e082d3a52baa117a",
   "outputs": [],
   "execution_count": null
  },
  {
   "metadata": {},
   "cell_type": "code",
   "source": [
    "techcrunch_2020['date']=2020\n",
    "# techcrunch_2020['affiliations']='Techcrunch'"
   ],
   "id": "cd881a5943194fe5",
   "outputs": [],
   "execution_count": null
  },
  {
   "metadata": {},
   "cell_type": "code",
   "source": [
    "# 컬럼 순서 바꾸기 함수\n",
    "\n",
    "# 원하는 컬럼 순서 리스트\n",
    "desired_order = [\n",
    "    'title',\n",
    "    'date',\n",
    "    'content',       # content을 abstract로 바꿨다고 가정\n",
    "    'keywords',\n",
    "    # 'authors',\n",
    "    'affiliations'\n",
    "]\n",
    "\n",
    "# 컬럼 순서 변경\n",
    "techcrunch_2020 = techcrunch_2020[desired_order]"
   ],
   "id": "33a445fd250f564",
   "outputs": [],
   "execution_count": null
  },
  {
   "metadata": {},
   "cell_type": "code",
   "source": "techcrunch_2020.info()",
   "id": "99e0276f89a83f1d",
   "outputs": [],
   "execution_count": null
  },
  {
   "metadata": {},
   "cell_type": "code",
   "source": "techcrunch_2020.to_csv('data/techcrunch_2020.csv',index=False)",
   "id": "ff1d84a0ad670424",
   "outputs": [],
   "execution_count": null
  },
  {
   "metadata": {},
   "cell_type": "markdown",
   "source": "# 데이터 합치기-저널",
   "id": "538d5878d8b1c71"
  },
  {
   "metadata": {},
   "cell_type": "code",
   "source": [
    "import pandas as pd\n",
    "\n",
    "icis=pd.read_csv('data/icis_2020.csv')\n",
    "hicss=pd.read_csv('data/hicss_2020.csv')\n",
    "misq=pd.read_csv('data/misq_2020.csv')\n",
    "isr=pd.read_csv('data/isr_2020.csv')"
   ],
   "id": "63cb0d67e43165a7",
   "outputs": [],
   "execution_count": null
  },
  {
   "metadata": {},
   "cell_type": "code",
   "source": "icis.info()",
   "id": "dd998e47e17e9294",
   "outputs": [],
   "execution_count": null
  },
  {
   "metadata": {},
   "cell_type": "code",
   "source": "hicss.info()",
   "id": "decdaa33015d26b8",
   "outputs": [],
   "execution_count": null
  },
  {
   "metadata": {},
   "cell_type": "code",
   "source": "misq.info()",
   "id": "c18a71bce3b889f2",
   "outputs": [],
   "execution_count": null
  },
  {
   "metadata": {},
   "cell_type": "code",
   "source": "isr.info()",
   "id": "9ba5d20a643fc7c2",
   "outputs": [],
   "execution_count": null
  },
  {
   "metadata": {},
   "cell_type": "code",
   "source": [
    "from drop_null_rows import drop_null_rows\n",
    "\n",
    "icis=drop_null_rows(icis,['title','abstract','keywords','date'])\n",
    "hicss=drop_null_rows(hicss,['title','abstract','keywords','date'])\n",
    "misq=drop_null_rows(misq,['title','abstract','keywords','date'])\n",
    "isr=drop_null_rows(isr,['title','abstract','keywords','date'])"
   ],
   "id": "58f068c69130fe91",
   "outputs": [],
   "execution_count": null
  },
  {
   "metadata": {},
   "cell_type": "code",
   "source": [
    "df=pd.concat([icis,hicss,misq,isr])\n",
    "df.info()"
   ],
   "id": "3d611fdfae7b0dfd",
   "outputs": [],
   "execution_count": null
  },
  {
   "metadata": {},
   "cell_type": "code",
   "source": "df.to_csv('data/journal_2020.csv',index=False)",
   "id": "1542a5d605d3db72",
   "outputs": [],
   "execution_count": null
  },
  {
   "metadata": {},
   "cell_type": "code",
   "source": [
    "journal=pd.read_csv('data/01_journal_2021_2025_merged_labeled.csv')\n",
    "jo2020=pd.read_csv('data/journal_2020.csv')"
   ],
   "id": "270857edda2bbae2",
   "outputs": [],
   "execution_count": null
  },
  {
   "metadata": {},
   "cell_type": "code",
   "source": "journal.info()",
   "id": "7c0567661e672c6c",
   "outputs": [],
   "execution_count": null
  },
  {
   "metadata": {},
   "cell_type": "code",
   "source": [
    "journal=journal.drop(columns=['affiliations'])\n",
    "journal.rename(columns={'journal':'affiliations'}, inplace=True)"
   ],
   "id": "b19f563ccd783d62",
   "outputs": [],
   "execution_count": null
  },
  {
   "metadata": {},
   "cell_type": "code",
   "source": [
    "\n",
    "# 원하는 컬럼 순서 리스트\n",
    "desired_order = [\n",
    "    'title',\n",
    "    'date',\n",
    "    'abstract',       # content을 abstract로 바꿨다고 가정\n",
    "    'keywords',\n",
    "    'authors',\n",
    "    'affiliations'\n",
    "]\n",
    "\n",
    "# 컬럼 순서 변경\n",
    "journal = journal[desired_order]"
   ],
   "id": "7f98aeff557b8220",
   "outputs": [],
   "execution_count": null
  },
  {
   "metadata": {},
   "cell_type": "code",
   "source": "jo2020.info()",
   "id": "468e085cb0485ef6",
   "outputs": [],
   "execution_count": null
  },
  {
   "metadata": {},
   "cell_type": "code",
   "source": "df=pd.concat([journal,jo2020])",
   "id": "1e356d3879cb14db",
   "outputs": [],
   "execution_count": null
  },
  {
   "metadata": {},
   "cell_type": "code",
   "source": "df.info()",
   "id": "16658b86fd89bf5a",
   "outputs": [],
   "execution_count": null
  },
  {
   "metadata": {},
   "cell_type": "code",
   "source": "df",
   "id": "5831f5bbcb5b8979",
   "outputs": [],
   "execution_count": null
  },
  {
   "metadata": {},
   "cell_type": "code",
   "source": "df['affiliations'] = df['affiliations'].replace('icis', 'ICIS')",
   "id": "2f9dbb54abea41a0",
   "outputs": [],
   "execution_count": null
  },
  {
   "metadata": {},
   "cell_type": "code",
   "source": "journal_year_counts = df.groupby(['affiliations', 'date']).size().unstack(fill_value=0)",
   "id": "a40d02bbfdfa9588",
   "outputs": [],
   "execution_count": null
  },
  {
   "metadata": {},
   "cell_type": "code",
   "source": "journal_year_counts",
   "id": "db81835ab87deb21",
   "outputs": [],
   "execution_count": null
  },
  {
   "metadata": {},
   "cell_type": "code",
   "source": "df['date'].value_counts()",
   "id": "27ce0e2e4a741907",
   "outputs": [],
   "execution_count": null
  },
  {
   "metadata": {},
   "cell_type": "code",
   "source": "df.to_csv('data/02_journal_2020_2025.csv',index=False)",
   "id": "ba6639a1b4aaa8b5",
   "outputs": [],
   "execution_count": null
  },
  {
   "metadata": {},
   "cell_type": "markdown",
   "source": "# 데이터 합치기 - 산업",
   "id": "a1633059eb3e4686"
  },
  {
   "metadata": {},
   "cell_type": "code",
   "source": [
    "import pandas as pd\n",
    "\n",
    "verge=pd.read_csv('data/verge_2020.csv')\n",
    "techcrunch=pd.read_csv('data/techcrunch_2020.csv')"
   ],
   "id": "e5936cb36255b00e",
   "outputs": [],
   "execution_count": null
  },
  {
   "metadata": {},
   "cell_type": "code",
   "source": "verge.info()",
   "id": "d63f0e0a76b84266",
   "outputs": [],
   "execution_count": null
  },
  {
   "metadata": {},
   "cell_type": "code",
   "source": "verge",
   "id": "d3756508520bfebc",
   "outputs": [],
   "execution_count": null
  },
  {
   "metadata": {},
   "cell_type": "code",
   "source": "techcrunch.info()",
   "id": "302b42591a742731",
   "outputs": [],
   "execution_count": null
  },
  {
   "metadata": {},
   "cell_type": "code",
   "source": "techcrunch",
   "id": "7d5f7277365e27c",
   "outputs": [],
   "execution_count": null
  },
  {
   "metadata": {},
   "cell_type": "code",
   "source": [
    "# 컬럼 순서 바꾸기 함수\n",
    "# 원하는 컬럼 순서 리스트\n",
    "desired_order = [\n",
    "    'title',\n",
    "    'date',\n",
    "    'content',       # content을 abstract로 바꿨다고 가정\n",
    "    'keywords',\n",
    "    # 'authors',\n",
    "    'affiliations'\n",
    "]\n",
    "\n",
    "# 컬럼 순서 변경\n",
    "verge = verge[desired_order]"
   ],
   "id": "eec45f4678ed5223",
   "outputs": [],
   "execution_count": null
  },
  {
   "metadata": {},
   "cell_type": "code",
   "source": [
    "# df=pd.concat([verge,techcrunch])\n",
    "df.info()"
   ],
   "id": "74b5bc251ad91fae",
   "outputs": [],
   "execution_count": null
  },
  {
   "metadata": {},
   "cell_type": "code",
   "source": "df.to_csv('data/article_2020.csv',index=False)",
   "id": "2bace0d01e287853",
   "outputs": [],
   "execution_count": null
  },
  {
   "metadata": {},
   "cell_type": "code",
   "source": [
    "article=pd.read_csv('data/01_article_2021_2025_merged_labeled.csv')\n",
    "article.info()"
   ],
   "id": "84583d5e366acc28",
   "outputs": [],
   "execution_count": null
  },
  {
   "metadata": {},
   "cell_type": "code",
   "source": "df=pd.concat([df,article])",
   "id": "2312ccca038ba9b7",
   "outputs": [],
   "execution_count": null
  },
  {
   "metadata": {},
   "cell_type": "code",
   "source": "df.info()",
   "id": "7fc0d08b5ce89e",
   "outputs": [],
   "execution_count": null
  },
  {
   "metadata": {},
   "cell_type": "code",
   "source": [
    "# 컬럼 순서 바꾸기 함수\n",
    "# 원하는 컬럼 순서 리스트\n",
    "desired_order = [\n",
    "    'title',\n",
    "    'date',\n",
    "    'content',       # content을 abstract로 바꿨다고 가정\n",
    "    'keywords',\n",
    "    # 'authors',\n",
    "    'affiliations'\n",
    "]\n",
    "\n",
    "# 컬럼 순서 변경\n",
    "df = df[desired_order]"
   ],
   "id": "64ef5b28da1f70ae",
   "outputs": [],
   "execution_count": null
  },
  {
   "metadata": {},
   "cell_type": "code",
   "source": "df.to_csv('data/02_article_2020_2025.csv',index=False)",
   "id": "b82f96752b1efc60",
   "outputs": [],
   "execution_count": null
  },
  {
   "metadata": {},
   "cell_type": "markdown",
   "source": [
    "# 공통\n",
    "- 중복된 데이터 지우기"
   ],
   "id": "2f4c8d84b955c13e"
  },
  {
   "metadata": {},
   "cell_type": "code",
   "source": [
    "df = df.drop_duplicates(keep=\"first\")   # keep=\"first\" ⇒ 첫 행만 남기고 나머지 삭제\n",
    "# 또는 icis.drop_duplicates(inplace=True)  # 원본 수정"
   ],
   "id": "fbe4998e1683e6fb",
   "outputs": [],
   "execution_count": null
  },
  {
   "metadata": {},
   "cell_type": "code",
   "source": "",
   "id": "ce25e14331af6f6a",
   "outputs": [],
   "execution_count": null
  }
 ],
 "metadata": {
  "kernelspec": {
   "display_name": "Python 3",
   "language": "python",
   "name": "python3"
  },
  "language_info": {
   "codemirror_mode": {
    "name": "ipython",
    "version": 2
   },
   "file_extension": ".py",
   "mimetype": "text/x-python",
   "name": "python",
   "nbconvert_exporter": "python",
   "pygments_lexer": "ipython2",
   "version": "2.7.6"
  }
 },
 "nbformat": 4,
 "nbformat_minor": 5
}
