{
 "nbformat": 4,
 "nbformat_minor": 0,
 "metadata": {
  "colab": {
   "provenance": []
  },
  "kernelspec": {
   "name": "python3",
   "display_name": "Python 3 (ipykernel)",
   "language": "python"
  },
  "language_info": {
   "name": "python"
  }
 },
 "cells": [
  {
   "metadata": {
    "colab": {
     "base_uri": "https://localhost:8080/"
    },
    "id": "vcB4_em1_s5S",
    "outputId": "a192a1c5-b2b6-42da-d441-4b0fb3dc5ff9",
    "ExecuteTime": {
     "end_time": "2025-05-02T00:00:27.005160Z",
     "start_time": "2025-05-02T00:00:26.836735Z"
    }
   },
   "cell_type": "code",
   "source": [
    "from TopicModelingWithFactorAnalysis import *\n",
    "df=pd.read_csv('data/01_combined_journal.csv')"
   ],
   "outputs": [
    {
     "ename": "NameError",
     "evalue": "name 'pd' is not defined",
     "output_type": "error",
     "traceback": [
      "\u001B[0;31m---------------------------------------------------------------------------\u001B[0m",
      "\u001B[0;31mNameError\u001B[0m                                 Traceback (most recent call last)",
      "Cell \u001B[0;32mIn[1], line 1\u001B[0m\n\u001B[0;32m----> 1\u001B[0m df\u001B[38;5;241m=\u001B[39mpd\u001B[38;5;241m.\u001B[39mread_csv(\u001B[38;5;124m'\u001B[39m\u001B[38;5;124mdata/01_combined_journal.csv\u001B[39m\u001B[38;5;124m'\u001B[39m)\n",
      "\u001B[0;31mNameError\u001B[0m: name 'pd' is not defined"
     ]
    }
   ],
   "execution_count": 1
  },
  {
   "metadata": {
    "colab": {
     "base_uri": "https://localhost:8080/",
     "height": 424
    },
    "id": "YCq6P7-bCMNy",
    "outputId": "34c0bad2-94e9-4e05-86cf-f1e9ed8cefc3",
    "ExecuteTime": {
     "end_time": "2025-04-29T04:27:01.890574Z",
     "start_time": "2025-04-29T04:26:26.636642Z"
    }
   },
   "cell_type": "code",
   "source": [
    "run_yearly_lda_factor_analysis(\n",
    "    df,  # 👉 당신이 만든 데이터프레임\n",
    "    data_type='journal',  # 👉 논문이면 'journal', 뉴스 기사면 'article'\n",
    "    n_topics=10,          # 👉 고정: LDA 토픽 개수\n",
    "    n_factors=5,          # 👉 고정: Factor Analysis 요인 수\n",
    "    vectorizer_method='tfidf',  # 👉 'count'나 'tfidf' 중 선택 ('tfidf' 추천)\n",
    "    max_features=5000,     # 👉 벡터라이저 최대 단어 수 (선택사항)\n",
    "    output_dir='data/result/02'   # 👉 결과 저장 폴더명\n",
    ")"
   ],
   "outputs": [
    {
     "name": "stdout",
     "output_type": "stream",
     "text": [
      "🔵 Processing year: 2021\n",
      "✅ LDA 토픽 저장 완료: data/result/02/02_journal_2021_lda_topics.txt\n"
     ]
    },
    {
     "name": "stderr",
     "output_type": "stream",
     "text": [
      "/opt/anaconda3/envs/AI_news/lib/python3.11/site-packages/sklearn/decomposition/_factor_analysis.py:296: ConvergenceWarning: FactorAnalysis did not converge. You might want to increase the number of iterations.\n",
      "  warnings.warn(\n"
     ]
    },
    {
     "name": "stdout",
     "output_type": "stream",
     "text": [
      "✅ 저장 완료 (본문 500자 제한 적용): data/result/02/02_journal_2021_top_docs_by_factor.txt\n",
      "✅ Year 2021 완료! (Topic Matrix, Factor Scores, Loadings, Top Docs 저장)\n",
      "🔵 Processing year: 2022\n",
      "✅ LDA 토픽 저장 완료: data/result/02/02_journal_2022_lda_topics.txt\n"
     ]
    },
    {
     "name": "stderr",
     "output_type": "stream",
     "text": [
      "/opt/anaconda3/envs/AI_news/lib/python3.11/site-packages/sklearn/decomposition/_factor_analysis.py:296: ConvergenceWarning: FactorAnalysis did not converge. You might want to increase the number of iterations.\n",
      "  warnings.warn(\n"
     ]
    },
    {
     "name": "stdout",
     "output_type": "stream",
     "text": [
      "✅ 저장 완료 (본문 500자 제한 적용): data/result/02/02_journal_2022_top_docs_by_factor.txt\n",
      "✅ Year 2022 완료! (Topic Matrix, Factor Scores, Loadings, Top Docs 저장)\n",
      "🔵 Processing year: 2023\n",
      "✅ LDA 토픽 저장 완료: data/result/02/02_journal_2023_lda_topics.txt\n"
     ]
    },
    {
     "name": "stderr",
     "output_type": "stream",
     "text": [
      "/opt/anaconda3/envs/AI_news/lib/python3.11/site-packages/sklearn/decomposition/_factor_analysis.py:296: ConvergenceWarning: FactorAnalysis did not converge. You might want to increase the number of iterations.\n",
      "  warnings.warn(\n"
     ]
    },
    {
     "name": "stdout",
     "output_type": "stream",
     "text": [
      "✅ 저장 완료 (본문 500자 제한 적용): data/result/02/02_journal_2023_top_docs_by_factor.txt\n",
      "✅ Year 2023 완료! (Topic Matrix, Factor Scores, Loadings, Top Docs 저장)\n",
      "🔵 Processing year: 2024\n",
      "✅ LDA 토픽 저장 완료: data/result/02/02_journal_2024_lda_topics.txt\n"
     ]
    },
    {
     "name": "stderr",
     "output_type": "stream",
     "text": [
      "/opt/anaconda3/envs/AI_news/lib/python3.11/site-packages/sklearn/decomposition/_factor_analysis.py:296: ConvergenceWarning: FactorAnalysis did not converge. You might want to increase the number of iterations.\n",
      "  warnings.warn(\n"
     ]
    },
    {
     "name": "stdout",
     "output_type": "stream",
     "text": [
      "✅ 저장 완료 (본문 500자 제한 적용): data/result/02/02_journal_2024_top_docs_by_factor.txt\n",
      "✅ Year 2024 완료! (Topic Matrix, Factor Scores, Loadings, Top Docs 저장)\n",
      "🔵 Processing year: 2025\n",
      "✅ LDA 토픽 저장 완료: data/result/02/02_journal_2025_lda_topics.txt\n",
      "✅ 저장 완료 (본문 500자 제한 적용): data/result/02/02_journal_2025_top_docs_by_factor.txt\n",
      "✅ Year 2025 완료! (Topic Matrix, Factor Scores, Loadings, Top Docs 저장)\n"
     ]
    }
   ],
   "execution_count": 16
  },
  {
   "metadata": {
    "id": "isfCEj31CwAq"
   },
   "cell_type": "markdown",
   "source": "# 데이터 라벨링 작업 - 토픽모델링"
  },
  {
   "metadata": {},
   "cell_type": "markdown",
   "source": [
    "## 2021년\n",
    "- Privacy: Topic 0: data, privacy, study, adoption, information, system, result, security, research, effect\n",
    "- DSS: Topic 1: digital, research, model, system, work, study, information, learning, data, organization\n",
    "- Online Community: Topic 2: learning, study, research, online, community, user, innovation, model, data, digital\n",
    "- Ecosystems: Topic 3: based, ecosystem, design, data, platform, system, user, research, framework, learning\n",
    "- Digital Society: Topic 4: digital, social, research, study, technology, information, human, system, data, decision\n",
    "- E-marketplaces: Topic 5: platform, product, social, effect, information, medium, consumer, use, customer, online\n",
    "- BPR: Topic 6: system, data, research, user, information, model, online, study, consumer, process\n",
    "- Social Media: Topic 7: social, medium, service, study, research, digital, technology, customer, human, brand\n",
    "- Blockchain: Topic 8: knowledge, project, data, system, blockchain, based, information, study, research, development\n",
    "- Review: Topic 9: review, data, research, model, service, study, based, information, innovation, design\n",
    "\n",
    "## 2022년\n",
    "- E-marketplaces: Topic 0: digital, platform, social, user, online, study, content, research, effect, knowledge\n",
    "- Privacy: Topic 1: privacy, information, research, market, system, model, study, game, user, social\n",
    "- Healthcare: Topic 2: digital, research, use, health, study, social, organization, user, information, patient\n",
    "- Machine Learning: Topic 3: learning, data, social, model, study, research, machine, based, medium, technology\n",
    "- Platform: Topic 4: platform, social, design, research, use, individual, sale, live, effect, employee\n",
    "- Blockchain: Topic 5: technology, research, digital, based, study, model, blockchain, business, analysis, design\n",
    "- Customer Service: Topic 6: data, product, service, customer, study, system, innovation, digital, value, research\n",
    "- Human-Technology Systems: Topic 7: study, user, technology, human, process, system, research, information, work, based\n",
    "- DSS: Topic 8: data, system, decision, project, patient, online, effect, idea, research, study\n",
    "- Review: Topic 9: review, system, online, use, social, research, model, study, information, design\n",
    "\n",
    "## 2023년\n",
    "- EMS: Topic 0: study, work, platform, research, information, team, effect, worker, based, agile\n",
    "- Social Media: Topic 1: social, online, user, study, information, effect, platform, review, medium, content\n",
    "- Knowledge Management: Topic 2: data, model, research, process, study, based, review, knowledge, management, business\n",
    "- Networks: Topic 3: based, data, study, digital, network, user, model, online, learning, customer\n",
    "- Privacy: Topic 4: digital, information, privacy, data, research, system, technology, learning, model, study\n",
    "- BPR: Topic 5: study, digital, process, organization, effect, organizational, online, information, platform, system\n",
    "- Platform: Topic 6: platform, design, research, digital, data, study, use, user, system, technology\n",
    "- Human-Technology Systems: Topic 7: human, system, effect, study, research, platform, product, model, service, based\n",
    "- Digital Services: Topic 8: data, social, digital, model, research, platform, system, service, firm, medium\n",
    "- business market: Topic 9: study, feedback, social, system, analysis, technology, business, medium, market, innovation\n",
    "\n",
    "## 2024년\n",
    "- Social Engagement: Topic 0: social, medium, study, user, research, system, engagement, influencers, community, effect\n",
    "- Behavior: Topic 1: service, system, digital, study, game, behavior, design, based, change, process\n",
    "- Human-AI Interaction: Topic 2: user, system, human, decision, data, study, intelligence, based, artificial, interaction\n",
    "- Privacy and Virtual: Topic 3: user, study, privacy, social, virtual, learning, technology, information, research, data\n",
    "- BPR: Topic 4: digital, research, study, data, process, knowledge, model, work, design, organization\n",
    "- Crowdfunding: Topic 5: digital, study, research, effect, online, human, platform, innovation, crowdfunding, finding\n",
    "- Social Media: Topic 6: social, medium, study, data, model, system, based, research, customer, knowledge\n",
    "- Machine Learning: Topic 7: data, learning, model, machine, system, based, approach, research, design, using\n",
    "- Content Platform: Topic 8: platform, information, content, research, effect, user, market, social, study, data\n",
    "- Digital Business: Topic 9: study, platform, digital, data, effect, system, user, research, impact, business\n",
    "\n",
    "## 2025년\n",
    "- Digital Business: Topic 0: research, digital, study, process, data, technology, design, model, business, review\n",
    "- Generative AI: Topic 1: study, platform, impact, generative, social, system, digital, use, user, research\n",
    "- Gamification Strategies: Topic 2: game, model, study, social, learning, impact, platform, customer, strategy, open\n",
    "- Social Media: Topic 3: data, system, social, model, using, medium, study, energy, based, result\n",
    "- BPR: Topic 4: knowledge, digital, study, technology, organization, medium, social, system, new, model\n",
    "- Online Communities: Topic 5: data, model, study, based, social, online, digital, research, network, community\n",
    "- Data-Driven Analysis: Topic 6: model, power, system, information, data, study, analysis, student, based, firm\n",
    "- LLM: Topic 7: study, model, service, security, digital, based, llm, use, robot, social\n",
    "- DSS: Topic 8: data, system, digital, model, decision, study, human, learning, approach, research\n",
    "- Technology Adoption: Topic 9: technology, study, adoption, model, decision, research, information, network, student, based\n",
    "\n",
    "\n",
    "\n"
   ]
  },
  {
   "metadata": {
    "ExecuteTime": {
     "end_time": "2025-05-02T01:10:26.714040Z",
     "start_time": "2025-05-02T01:10:26.702876Z"
    }
   },
   "cell_type": "code",
   "source": [
    "year_topic_label_mappings = {\n",
    "    2021: {\n",
    "        0: \"Privacy\",\n",
    "        1: \"DSS\",\n",
    "        2: \"Online Community\",\n",
    "        3: \"Ecosystems\",\n",
    "        4: \"Digital Society\",\n",
    "        5: \"E-marketplaces\",\n",
    "        6: \"BPR\",\n",
    "        7: \"Social Media\",\n",
    "        8: \"Blockchain\",\n",
    "        9: \"Review\"\n",
    "    },\n",
    "    2022: {\n",
    "        0: \"E-marketplaces\",\n",
    "        1: \"Privacy\",\n",
    "        2: \"Healthcare\",\n",
    "        3: \"Machine Learning\",\n",
    "        4: \"Platform\",\n",
    "        5: \"Blockchain\",\n",
    "        6: \"Customer Service\",\n",
    "        7: \"Human-Technology Systems\",\n",
    "        8: \"DSS\",\n",
    "        9: \"Review\"\n",
    "    },\n",
    "    2023: {\n",
    "        0: \"EMS\",\n",
    "        1: \"Social Media\",\n",
    "        2: \"Knowledge Management\",\n",
    "        3: \"Networks\",\n",
    "        4: \"Privacy\",\n",
    "        5: \"BPR\",\n",
    "        6: \"Platform\",\n",
    "        7: \"Human-Technology Systems\",\n",
    "        8: \"Digital Services\",\n",
    "        9: \"business market\"\n",
    "    },\n",
    "    2024: {\n",
    "        0: \"Social Engagement\",\n",
    "        1: \"Behavior\",\n",
    "        2: \"Human-AI Interaction\",\n",
    "        3: \"Privacy and Virtual\",\n",
    "        4: \"BPR\",\n",
    "        5: \"Crowdfunding\",\n",
    "        6: \"Social Media\",\n",
    "        7: \"Machine Learning\",\n",
    "        8: \"Content Platform\",\n",
    "        9: \"Digital Business\"\n",
    "    },\n",
    "    2025: {\n",
    "        0: \"Digital Business\",\n",
    "        1: \"Generative AI\",\n",
    "        2: \"Gamification Strategies\",\n",
    "        3: \"Social Media\",\n",
    "        4: \"BPR\",\n",
    "        5: \"Online Communities\",\n",
    "        6: \"Data-Driven Analysis\",\n",
    "        7: \"LLM\",\n",
    "        8: \"DSS\",\n",
    "        9: \"Technology Adoption\"\n",
    "    }\n",
    "}"
   ],
   "outputs": [],
   "execution_count": 4
  },
  {
   "metadata": {
    "colab": {
     "base_uri": "https://localhost:8080/"
    },
    "id": "DW8N5QfOCITl",
    "outputId": "121fe6ac-d20e-4b9a-e57a-de181dbbce6e",
    "ExecuteTime": {
     "end_time": "2025-05-02T01:11:05.028059Z",
     "start_time": "2025-05-02T01:11:04.910173Z"
    }
   },
   "cell_type": "code",
   "source": [
    "import pandas as pd\n",
    "\n",
    "year=2025\n",
    "# 1. 2021년도 기사 데이터 불러오기\n",
    "article_2023_df = pd.read_csv('data/01_combined_journal.csv')  # 👉 원본 기사 데이터\n",
    "article_2023_df = article_2023_df[article_2023_df['date'] == year].reset_index(drop=True)\n",
    "\n",
    "# 2. 2021년도 topic matrix 불러오기\n",
    "topic_matrix_2023 = pd.read_csv(f'data/result/02/02_journal_{year}_topic_matrix.csv')  # 👉 생성된 토픽 행렬\n",
    "\n",
    "# 3. 문서별로 가장 높은 토픽 선택\n",
    "top_topic = topic_matrix_2023.idxmax(axis=1)  # 가장 확률 높은 토픽 컬럼명 (e.g., \"Topic_3\")\n",
    "\n",
    "# 4. topic 번호 추출\n",
    "top_topic_num = top_topic.str.extract(r'(\\d+)').astype(int)\n",
    "\n",
    "# 연도에 따라 라벨 매핑\n",
    "topic_label_mapping = year_topic_label_mappings[year]\n",
    "article_2023_df['topic_label'] = top_topic_num[0].map(topic_label_mapping)\n",
    "# 7. 결과 저장 (선택)\n",
    "article_2023_df.to_csv(f'data/result/02/02_journal_{year}_labeled.csv', index=False, encoding='utf-8-sig')\n",
    "\n",
    "print(\"✅ 문서별 라벨링 완료 및 저장!\")"
   ],
   "outputs": [
    {
     "name": "stdout",
     "output_type": "stream",
     "text": [
      "✅ 문서별 라벨링 완료 및 저장!\n"
     ]
    }
   ],
   "execution_count": 9
  },
  {
   "metadata": {},
   "cell_type": "markdown",
   "source": "# 데이터 라벨링 작업 - Factor Analysis"
  },
  {
   "metadata": {},
   "cell_type": "markdown",
   "source": [
    "## 2021년\n",
    "- Factor_1: IT 그룹 : 사회 운동에서 소셜미디어의 집단적 사용, 분산된 커뮤니케이션, 공동체 행동 분석을 통해 IT가 집단 상호작용에 미치는 영향 강조\n",
    "- Factor_2: IS 발전 : 건강 정보 교환 시스템(HIEs) 도입을 위한 계약 설계 및 IT 인센티브 구조 분석을 통해 시스템 개발 및 기능성 중심의 기술적 특성 탐구\n",
    "- Factor_3: IT 개인 : 정보 공개 행동과 프라이버시 보호 사이의 균형을 개인의 심리적 반응 및 행동 수준에서 분석, 개인의 IT 수용 관점 부각\n",
    "- Factor_4: IT 조직 : 기업의 IT 투자 계획과 조직 내 거버넌스, 관리 구조의 상호작용을 통해 조직 차원에서 IT 전략 및 운영 분석\n",
    "- Factor_5: IT 시장 : 크라우드소싱 아이디어 경진 대회를 통한 외부 집단과의 상호작용, 시장 기반의 혁신 및 참여자 구조 분석\n",
    "\n",
    "## 2022년\n",
    "- Factor_1: IT 개인 : 소셜미디어 상에서 가짜뉴스에 대한 신뢰도, 평가행위, 공유 행동 등을 분석하여 개인의 IT 수용과 심리적 반응 중심으로 접근\n",
    "- Factor_2: IS 발전 : 알고리즘 기반 정보 전파(봇)를 설명하기 위해 'algorithmic conduit brokerage'라는 새로운 프레임워크를 제시하며 기술 구조와 정보 시스템 기능성에 초점\n",
    "- Factor_3: IT 조직 : CEO와 CIO 간의 언어 스타일 매칭을 통해 기술에 대한 공동 인식이 조직 내 기술 혁신 성과에 미치는 영향 분석 – 조직 수준 IT 전략과 성과에 초점\n",
    "- Factor_4: IT 시장 : 전력 시장과 같은 비선형 시장에서 수요 반응을 고려한 가격 책정 메커니즘을 분석하여 시장 설계 및 참여자 간 상호작용 구조 설명\n",
    "- Factor_5: IT 그룹 : 메쉬 컴퓨팅 환경에서 다양한 스마트 기기 간 상호작용과 협력 구조를 다룬 개념적 논의로, 집단 단위의 디지털 상호작용 및 생태계 분석에 해당\n",
    "\n",
    "## 2023년\n",
    "- Factor_1: IT 조직 : 디지털 플랫폼에서의 협업과 내부 조정 과정을 사례 기반으로 분석하며, 플랫폼 조직의 구조와 운영 전략 중심의 조직 수준 IT 적용을 다룸\n",
    "- Factor_2: IS 발전 : 컨셉 드리프트 문제 해결을 위해 새로운 알고리즘을 제안하고 모델의 불확실성을 기반으로 머신러닝 시스템의 성능을 개선하는 기술적 연구로 시스템 설계와 개발 중심\n",
    "- Factor_3: IT 개인 : 감정 인식 AI의 공정성과 인지 편향을 다룬 논문으로, 개인 수준의 인지·감정 반응 및 기술 수용에 대한 심리적 영향 분석\n",
    "- Factor_4: IT 시장 : 빅데이터 환경에서의 플랫폼 설계가 개인을 데이터화하는 구조를 형성하고 사회적 함의를 분석하는 논의로 시장/산업 구조와 외부 환경에 초점\n",
    "- Factor_5: IT 그룹 : COVID-19 위기 대응에서 디지털 경고 시스템(cell broadcast)의 효과를 분석하며, 집단 간 정보 공유 및 집단 행동 유도 메커니즘을 중심으로 함\n",
    "\n",
    "## 2024년\n",
    "- Factor_1: IT 조직: CEO, Organization, 조직 관련 키워드가 많이 분포되어 있음. → 특히 ‘AI Implementation and Capability Development in Manufacturing’은 조직의 의사결정 구조와 역량 구축에 초점을 두고 있어 조직 단위의 IT 활용과 전략적 적용에 해당함.\n",
    "- Factor_2: IT 시장: 플랫폼 수수료 규제, 글로벌 이커머스 로컬라이제이션 전략, 온디맨드 서비스와 같은 시장 구조, 외부 환경, 산업 간 상호작용을 중심으로 한 연구들이 다수 포함되어 있음.\n",
    "- Factor_3: IS 발전: 데이터 기반 의사결정, EHR 시스템, GAN을 활용한 보안 시스템 등 시스템 아키텍처와 알고리즘 설계 중심의 기술 발전 연구들이 포함됨.\n",
    "- Factor_4: IT 개인: 테크노스트레스, 개인정보 보호 행동, 개별 사용자 수준의 심리적 반응과 태도, 기술 수용 등 개인의 IT 이용 및 반응 중심의 주제가 많음.\n",
    "- Factor_5: IT 그룹: AI 기반 집단 논증 훈련, 온라인 협업 인센티브 구조, 학습 시스템 상호작용 등 집단 단위에서 IT가 상호작용과 협력에 미치는 영향 분석 중심.\n",
    "\n",
    "## 2025년\n",
    "- Factor_1: IS 발전: 기술적 관점에서 시스템의 성능, 구조, 알고리즘 설계 등을 다룬 논문이 중심. 예를 들어, AI 알고리즘의 재사용성, 병원 재입원 예측, 크라우드소싱 왜곡 분석 등은 전형적인 시스템 중심 연구로, IS 기술 발전에 기여함.\n",
    "- Factor_2: IT 조직: 조직 내 의사결정 구조와 기술 적용 전략을 중심으로 하는 연구 다수. 예: 다병원 시스템의 보안 복잡성, 자율시스템의 신뢰성 확보, M&A로 인한 보안 리스크 분석 등은 조직 단위의 decision making 및 거버넌스를 다룸.\n",
    "- Factor_3: IT 시장: 기술이 시장과 사회 전반에 미치는 지속가능성(sustainability) 및 정책적 영향에 중점을 둠. 예: AI 콘텐츠 창작과 워터마킹 정책, 데이터 공유/차단이 시장 혁신에 미치는 영향, 지역 케어 시스템 구축 등.\n",
    "- Factor_4: IT 개인: 개인의 행동 변화와 심리적 반응을 중심으로 한 연구. 예: 청소년의 SNS 기반 음주 행동, 피싱 감지 행동, 모바일 앱 보안 인식, 대마초 중독 사용자 개입 설계 등은 개인 수준에서 IT 수용과 반응을 분석함.\n",
    "- Factor_5: IT 그룹: 협업, 팀 기반 인터랙션, 인간-로봇 상호작용 등 ‘집단 단위의 IT 적용’을 다룸. 예: 휴먼-로봇 협업 제어, 멀티채널 배송 정책 반응 분석, AI 신뢰 관련 팀 기반 상호작용 등은 팀메이트와 협업 구조를 중심으로 분석됨.\n"
   ]
  },
  {
   "metadata": {
    "colab": {
     "base_uri": "https://localhost:8080/"
    },
    "id": "J6t8HqwsDL9L",
    "outputId": "2091502e-4cbb-48fd-97d8-3ad43b604397",
    "ExecuteTime": {
     "end_time": "2025-05-02T02:07:45.127233Z",
     "start_time": "2025-05-02T02:07:44.920939Z"
    }
   },
   "cell_type": "code",
   "source": [
    "import pandas as pd\n",
    "\n",
    "# 연도별 설정\n",
    "years = [2021, 2022, 2023, 2024, 2025]\n",
    "\n",
    "# 연도별 Factor 라벨 매핑\n",
    "factor_label_mappings = {\n",
    "    2021: {\n",
    "        'Factor_1': 'IT 그룹',\n",
    "        'Factor_2': 'IS 발전',\n",
    "        'Factor_3': 'IT 개인',\n",
    "        'Factor_4': 'IT 조직',\n",
    "        'Factor_5': 'IT 시장'\n",
    "    },\n",
    "    2022: {\n",
    "        'Factor_1': 'IT 개인',\n",
    "        'Factor_2': 'IS 발전',\n",
    "        'Factor_3': 'IT 조직',\n",
    "        'Factor_4': 'IT 시장',\n",
    "        'Factor_5': 'IT 그룹'\n",
    "    },\n",
    "    2023: {\n",
    "        'Factor_1': 'IT 조직',\n",
    "        'Factor_2': 'IS 발전',\n",
    "        'Factor_3': 'IT 개인',\n",
    "        'Factor_4': 'IT 시장',\n",
    "        'Factor_5': 'IT 그룹'\n",
    "    },\n",
    "    2024: {\n",
    "        'Factor_1': 'IT 조직',\n",
    "        'Factor_2': 'IT 시장',\n",
    "        'Factor_3': 'IS 발전',\n",
    "        'Factor_4': 'IT 개인',\n",
    "        'Factor_5': 'IT 그룹'\n",
    "    },\n",
    "    2025: {\n",
    "        'Factor_1': 'IS 발전',\n",
    "        'Factor_2': 'IT 조직',\n",
    "        'Factor_3': 'IT 시장',\n",
    "        'Factor_4': 'IT 개인',\n",
    "        'Factor_5': 'IT 그룹'\n",
    "    }\n",
    "}\n",
    "\n",
    "# 처리 반복\n",
    "for year in years:\n",
    "    print(f\"🔄 Processing {year}...\")\n",
    "\n",
    "    # 파일 경로\n",
    "    labeled_path = f'data/result/02/02_journal_{year}_labeled.csv'\n",
    "    factor_scores_path = f'data/result/02/02_journal{year}_factor_scores.csv'\n",
    "\n",
    "    # 데이터 불러오기\n",
    "    labeled_df = pd.read_csv(labeled_path)\n",
    "    factor_scores = pd.read_csv(factor_scores_path)\n",
    "\n",
    "    # 라벨 매핑\n",
    "    label_mapping = factor_label_mappings[year]\n",
    "    factor_columns = ['Factor_1', 'Factor_2', 'Factor_3', 'Factor_4', 'Factor_5']\n",
    "    factor_scores['max_factor'] = factor_scores[factor_columns].idxmax(axis=1)\n",
    "    factor_scores['assigned_label'] = factor_scores['max_factor'].map(label_mapping)\n",
    "\n",
    "    # 인덱스 기준 병합\n",
    "    merged_df = pd.concat([labeled_df.reset_index(drop=True),\n",
    "                           factor_scores[['max_factor', 'assigned_label']].reset_index(drop=True)], axis=1)\n",
    "\n",
    "    # 저장\n",
    "    save_path = f'data/result/02/02_journal_{year}_merged_labeled.csv'\n",
    "    merged_df.to_csv(save_path, index=False)\n",
    "    print(f\"✅ Saved merged file to: {save_path}\")"
   ],
   "outputs": [
    {
     "name": "stdout",
     "output_type": "stream",
     "text": [
      "🔄 Processing 2021...\n",
      "✅ Saved merged file to: data/result/02/02_journal_2021_merged_labeled.csv\n",
      "🔄 Processing 2022...\n",
      "✅ Saved merged file to: data/result/02/02_journal_2022_merged_labeled.csv\n",
      "🔄 Processing 2023...\n",
      "✅ Saved merged file to: data/result/02/02_journal_2023_merged_labeled.csv\n",
      "🔄 Processing 2024...\n",
      "✅ Saved merged file to: data/result/02/02_journal_2024_merged_labeled.csv\n",
      "🔄 Processing 2025...\n",
      "✅ Saved merged file to: data/result/02/02_journal_2025_merged_labeled.csv\n"
     ]
    }
   ],
   "execution_count": 42
  },
  {
   "metadata": {
    "id": "nzBfLxC2D4A0",
    "colab": {
     "base_uri": "https://localhost:8080/",
     "height": 80
    },
    "outputId": "b33b1384-8b77-4eb1-e499-913267b73894",
    "ExecuteTime": {
     "end_time": "2025-05-02T02:08:05.363438Z",
     "start_time": "2025-05-02T02:08:05.201055Z"
    }
   },
   "cell_type": "code",
   "source": [
    "import pandas as pd\n",
    "\n",
    "# 병합할 파일들의 년도 리스트\n",
    "years = [2021, 2022, 2023, 2024, 2025]\n",
    "\n",
    "# 모든 파일을 담을 리스트\n",
    "dfs = []\n",
    "\n",
    "# 각 년도별 파일을 읽어서 리스트에 추가\n",
    "for year in years:\n",
    "    file_path = f'data/result/02/02_journal_{year}_merged_labeled.csv'\n",
    "    df = pd.read_csv(file_path)\n",
    "    df['year'] = year  # 혹시 year 컬럼 없으면 추가\n",
    "    dfs.append(df)\n",
    "\n",
    "# 모든 데이터프레임을 하나로 합치기\n",
    "merged_df = pd.concat(dfs, ignore_index=True)\n",
    "\n",
    "# 결과 저장\n",
    "merged_df.to_csv('data/result/02/02_journal_2021_2025_merged_labeled.csv', index=False)\n",
    "\n",
    "print('✅ 저장 완료: data/result/02/02_journal_2021_2025_merged_labeled.csv')"
   ],
   "outputs": [
    {
     "name": "stdout",
     "output_type": "stream",
     "text": [
      "✅ 저장 완료: data/result/02/02_journal_2021_2025_merged_labeled.csv\n"
     ]
    }
   ],
   "execution_count": 43
  },
  {
   "metadata": {},
   "cell_type": "code",
   "outputs": [],
   "execution_count": null,
   "source": ""
  }
 ]
}
